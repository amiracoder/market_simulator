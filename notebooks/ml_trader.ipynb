{
 "cells": [
  {
   "cell_type": "code",
   "execution_count": 1,
   "metadata": {},
   "outputs": [],
   "source": [
    "%load_ext autoreload\n",
    "%autoreload 2\n",
    "\n",
    "%config Completer.use_jedi = False"
   ]
  },
  {
   "cell_type": "code",
   "execution_count": 2,
   "metadata": {},
   "outputs": [],
   "source": [
    "%matplotlib inline"
   ]
  },
  {
   "cell_type": "code",
   "execution_count": 3,
   "metadata": {},
   "outputs": [],
   "source": [
    "from pprint import pprint\n",
    "from datetime import datetime, timedelta\n",
    "import plotly.graph_objects as go\n",
    "import pandas as pd\n",
    "import numpy as np\n",
    "import pandas_datareader as web\n",
    "from sklearn.preprocessing import MinMaxScaler\n",
    "import pickle as pkl\n",
    "\n",
    "import matplotlib.pyplot as plt\n",
    "\n",
    "\n",
    "import tensorflow as tf\n",
    "from tensorflow.keras.utils import plot_model\n",
    "\n",
    "tfk = tf.keras\n",
    "tfkl = tf.keras.layers\n",
    "\n",
    "from market_trading.markets.BTCMarketSimulator import BTCMarketSimulator\n",
    "from market_trading.traders.simple_traders import SimpleTrader"
   ]
  },
  {
   "cell_type": "code",
   "execution_count": 4,
   "metadata": {},
   "outputs": [],
   "source": [
    "market = BTCMarketSimulator(\n",
    "    int(datetime(year=2020, month=1, day=1).timestamp()),\n",
    "    '../data/bitstampUSD_1-min_data_2012-01-01_to_2020-12-31.csv'\n",
    ")"
   ]
  },
  {
   "cell_type": "code",
   "execution_count": 5,
   "metadata": {},
   "outputs": [
    {
     "data": {
      "text/html": [
       "<div>\n",
       "<style scoped>\n",
       "    .dataframe tbody tr th:only-of-type {\n",
       "        vertical-align: middle;\n",
       "    }\n",
       "\n",
       "    .dataframe tbody tr th {\n",
       "        vertical-align: top;\n",
       "    }\n",
       "\n",
       "    .dataframe thead th {\n",
       "        text-align: right;\n",
       "    }\n",
       "</style>\n",
       "<table border=\"1\" class=\"dataframe\">\n",
       "  <thead>\n",
       "    <tr style=\"text-align: right;\">\n",
       "      <th></th>\n",
       "      <th>Timestamp</th>\n",
       "      <th>Open</th>\n",
       "      <th>High</th>\n",
       "      <th>Low</th>\n",
       "      <th>Close</th>\n",
       "      <th>Volume_(BTC)</th>\n",
       "      <th>Volume_(Currency)</th>\n",
       "      <th>Weighted_Price</th>\n",
       "    </tr>\n",
       "  </thead>\n",
       "  <tbody>\n",
       "    <tr>\n",
       "      <th>0</th>\n",
       "      <td>1577833200</td>\n",
       "      <td>7175.39</td>\n",
       "      <td>7175.39</td>\n",
       "      <td>7171.23</td>\n",
       "      <td>7175.39</td>\n",
       "      <td>0.518345</td>\n",
       "      <td>3719.279130</td>\n",
       "      <td>7175.302717</td>\n",
       "    </tr>\n",
       "    <tr>\n",
       "      <th>1</th>\n",
       "      <td>1577833260</td>\n",
       "      <td>7175.39</td>\n",
       "      <td>7175.39</td>\n",
       "      <td>7175.39</td>\n",
       "      <td>7175.39</td>\n",
       "      <td>0.115856</td>\n",
       "      <td>831.310979</td>\n",
       "      <td>7175.390000</td>\n",
       "    </tr>\n",
       "    <tr>\n",
       "      <th>2</th>\n",
       "      <td>1577833320</td>\n",
       "      <td>7172.96</td>\n",
       "      <td>7178.31</td>\n",
       "      <td>7172.96</td>\n",
       "      <td>7173.86</td>\n",
       "      <td>0.860977</td>\n",
       "      <td>6177.965010</td>\n",
       "      <td>7175.531260</td>\n",
       "    </tr>\n",
       "    <tr>\n",
       "      <th>3</th>\n",
       "      <td>1577833380</td>\n",
       "      <td>7170.76</td>\n",
       "      <td>7171.94</td>\n",
       "      <td>7166.25</td>\n",
       "      <td>7166.25</td>\n",
       "      <td>7.476673</td>\n",
       "      <td>53603.857655</td>\n",
       "      <td>7169.480054</td>\n",
       "    </tr>\n",
       "    <tr>\n",
       "      <th>4</th>\n",
       "      <td>1577833440</td>\n",
       "      <td>7170.44</td>\n",
       "      <td>7170.44</td>\n",
       "      <td>7170.44</td>\n",
       "      <td>7170.44</td>\n",
       "      <td>0.025002</td>\n",
       "      <td>179.271899</td>\n",
       "      <td>7170.440000</td>\n",
       "    </tr>\n",
       "  </tbody>\n",
       "</table>\n",
       "</div>"
      ],
      "text/plain": [
       "    Timestamp     Open     High      Low    Close  Volume_(BTC)  \\\n",
       "0  1577833200  7175.39  7175.39  7171.23  7175.39      0.518345   \n",
       "1  1577833260  7175.39  7175.39  7175.39  7175.39      0.115856   \n",
       "2  1577833320  7172.96  7178.31  7172.96  7173.86      0.860977   \n",
       "3  1577833380  7170.76  7171.94  7166.25  7166.25      7.476673   \n",
       "4  1577833440  7170.44  7170.44  7170.44  7170.44      0.025002   \n",
       "\n",
       "   Volume_(Currency)  Weighted_Price  \n",
       "0        3719.279130     7175.302717  \n",
       "1         831.310979     7175.390000  \n",
       "2        6177.965010     7175.531260  \n",
       "3       53603.857655     7169.480054  \n",
       "4         179.271899     7170.440000  "
      ]
     },
     "execution_count": 5,
     "metadata": {},
     "output_type": "execute_result"
    }
   ],
   "source": [
    "market.btc_df.head()"
   ]
  },
  {
   "cell_type": "code",
   "execution_count": 6,
   "metadata": {},
   "outputs": [],
   "source": [
    "scaler = MinMaxScaler(feature_range=(0, 1))\n",
    "prices = market.btc_df.Close.interpolate().values.reshape(-1, 1)\n",
    "prices_scaled = scaler.fit_transform(prices)"
   ]
  },
  {
   "cell_type": "code",
   "execution_count": 17,
   "metadata": {},
   "outputs": [],
   "source": [
    "TRAIN_INTERVAL = 10 # minutes \n",
    "TRAIN_WIN = 60 # how many point to loop back\n",
    "TRAIN_PORTION = .9"
   ]
  },
  {
   "cell_type": "code",
   "execution_count": 18,
   "metadata": {},
   "outputs": [],
   "source": [
    "indices = [i for i in range(0, prices_scaled.shape[0], TRAIN_INTERVAL)]\n",
    "data = prices[indices, :]\n",
    "data_scaled =prices_scaled[indices, :]\n",
    "n_train = int(data_scaled.shape[0]*TRAIN_PORTION)\n",
    "\n",
    "train_data = prices_scaled[:n_train, :]\n",
    "\n",
    "x_train = []\n",
    "y_train = []\n",
    "\n",
    "for i in range(TRAIN_WIN, len(train_data)):\n",
    "    x_train.append(train_data[i - TRAIN_WIN:i, :])\n",
    "    y_train.append(train_data[i, :])\n",
    "    \n",
    "x_train, y_train = np.array(x_train), np.array(y_train)"
   ]
  },
  {
   "cell_type": "code",
   "execution_count": 19,
   "metadata": {},
   "outputs": [],
   "source": [
    "model = tfk.Sequential([\n",
    "    tfkl.LSTM(units=50, return_sequences=True, input_shape=(x_train.shape[1], 1)),\n",
    "#     tfkl.LSTM(units=50, return_sequences=True),\n",
    "    tfkl.LSTM(units=50, return_sequences=False),\n",
    "    tfkl.Dense(25),\n",
    "    tfkl.Dense(1)    \n",
    "])\n",
    "\n",
    "model.compile(optimizer='adam', loss='mse')"
   ]
  },
  {
   "cell_type": "code",
   "execution_count": 20,
   "metadata": {},
   "outputs": [
    {
     "name": "stdout",
     "output_type": "stream",
     "text": [
      "47250/47250 [==============================] - 677s 14ms/step - loss: 2.3377e-05\n"
     ]
    },
    {
     "data": {
      "text/plain": [
       "<tensorflow.python.keras.callbacks.History at 0x17489f390>"
      ]
     },
     "execution_count": 20,
     "metadata": {},
     "output_type": "execute_result"
    }
   ],
   "source": [
    "model.fit(x_train, y_train, batch_size=1, epochs=1)"
   ]
  },
  {
   "cell_type": "code",
   "execution_count": 11,
   "metadata": {},
   "outputs": [
    {
     "name": "stderr",
     "output_type": "stream",
     "text": [
      "WARNING:absl:Found untraced functions such as lstm_cell_layer_call_fn, lstm_cell_layer_call_and_return_conditional_losses, lstm_cell_1_layer_call_fn, lstm_cell_1_layer_call_and_return_conditional_losses, lstm_cell_layer_call_fn while saving (showing 5 of 10). These functions will not be directly callable after loading.\n",
      "WARNING:absl:Found untraced functions such as lstm_cell_layer_call_fn, lstm_cell_layer_call_and_return_conditional_losses, lstm_cell_1_layer_call_fn, lstm_cell_1_layer_call_and_return_conditional_losses, lstm_cell_layer_call_fn while saving (showing 5 of 10). These functions will not be directly callable after loading.\n"
     ]
    },
    {
     "name": "stdout",
     "output_type": "stream",
     "text": [
      "INFO:tensorflow:Assets written to: lstml_2020_1_9_10/assets\n"
     ]
    },
    {
     "name": "stderr",
     "output_type": "stream",
     "text": [
      "INFO:tensorflow:Assets written to: lstml_2020_1_9_10/assets\n"
     ]
    }
   ],
   "source": [
    "with open('scaler.pkl', mode='wb') as f:\n",
    "    pkl.dump(scaler, f)\n",
    "    \n",
    "model.save(f'lstml_2020_1_9_{TRAIN_INTERVAL}')"
   ]
  },
  {
   "cell_type": "code",
   "execution_count": 10,
   "metadata": {},
   "outputs": [],
   "source": [
    "model = tfk.models.load_model('lstml_2020_1_9')"
   ]
  },
  {
   "cell_type": "code",
   "execution_count": 21,
   "metadata": {},
   "outputs": [],
   "source": [
    "test_data = data_scaled[n_train - TRAIN_WIN: , : ]\n",
    "#Create the x_test and y_test data sets\n",
    "x_test = []\n",
    "y_test =  data[n_train: , : ] \n",
    "for i in range(TRAIN_WIN,len(test_data)):\n",
    "    x_test.append(test_data[i - TRAIN_WIN:i,:])\n",
    "\n",
    "x_test = np.array(x_test)"
   ]
  },
  {
   "cell_type": "code",
   "execution_count": 22,
   "metadata": {},
   "outputs": [
    {
     "data": {
      "text/plain": [
       "(5257, 60, 1)"
      ]
     },
     "execution_count": 22,
     "metadata": {},
     "output_type": "execute_result"
    }
   ],
   "source": [
    "x_test.shape"
   ]
  },
  {
   "cell_type": "code",
   "execution_count": 23,
   "metadata": {},
   "outputs": [],
   "source": [
    "predictions = scaler.inverse_transform(\n",
    "    model.predict(x_test)\n",
    ")"
   ]
  },
  {
   "cell_type": "code",
   "execution_count": 24,
   "metadata": {},
   "outputs": [
    {
     "data": {
      "text/plain": [
       "1538.2550486539983"
      ]
     },
     "execution_count": 24,
     "metadata": {},
     "output_type": "execute_result"
    }
   ],
   "source": [
    "rmse=np.sqrt(np.mean(((predictions- y_test)**2)))\n",
    "rmse"
   ]
  },
  {
   "cell_type": "code",
   "execution_count": 25,
   "metadata": {},
   "outputs": [
    {
     "data": {
      "image/png": "[encoded data removed]",
      "text/plain": [
       "<Figure size 1296x720 with 1 Axes>"
      ]
     },
     "metadata": {
      "needs_background": "light"
     },
     "output_type": "display_data"
    }
   ],
   "source": [
    "train = data[:n_train]\n",
    "actual = data[n_train:]\n",
    "\n",
    "#Visualize the data\n",
    "plt.figure(figsize=(18,10))\n",
    "plt.plot(list(range(n_train)), train, label='train')\n",
    "plt.plot(list(range(n_train, n_train + len(actual))), actual, label='actual')\n",
    "plt.plot(list(range(n_train, n_train + len(actual))), predictions, label='prediction')\n",
    "plt.legend()\n",
    "plt.show()"
   ]
  },
  {
   "cell_type": "code",
   "execution_count": null,
   "metadata": {},
   "outputs": [],
   "source": []
  }
 ],
 "metadata": {
  "kernelspec": {
   "display_name": "bitvavo",
   "language": "python",
   "name": "bitvavo-env"
  },
  "language_info": {
   "codemirror_mode": {
    "name": "ipython",
    "version": 3
   },
   "file_extension": ".py",
   "mimetype": "text/x-python",
   "name": "python",
   "nbconvert_exporter": "python",
   "pygments_lexer": "ipython3",
   "version": "3.7.7"
  }
 },
 "nbformat": 4,
 "nbformat_minor": 4
}
